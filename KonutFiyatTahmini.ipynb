{
 "cells": [
  {
   "cell_type": "code",
   "execution_count": null,
   "id": "74db32b5",
   "metadata": {},
   "outputs": [],
   "source": [
    "#1.kutuphaneler\n",
    "import numpy as np\n",
    "import matplotlib.pyplot as plt\n",
    "import pandas as pd\n",
    "from sklearn.metrics import r2_score\n",
    "from sklearn.preprocessing import LabelEncoder\n",
    "import statsmodels.api as sm"
   ]
  },
  {
   "cell_type": "code",
   "execution_count": null,
   "id": "23205c25",
   "metadata": {},
   "outputs": [],
   "source": [
    "# veri yukleme\n",
    "df=pd.read_csv('HomeSaleData.csv', delimiter=';')\n",
    "df = df.dropna()\n",
    "\n",
    "# Price column has TL character  160000. TL\n",
    "df[\"Price\"]=df[\"Price\"].str.replace(\"TL\",\"\")\n",
    "df[\"Price\"]=df[\"Price\"].str.replace(\"\\s+\",\"\")\n",
    "df[\"Price\"]=df[\"Price\"].str.replace(\".\",\"\").astype(float)\n"
   ]
  },
  {
   "cell_type": "code",
   "execution_count": null,
   "id": "821e90b3",
   "metadata": {},
   "outputs": [],
   "source": [
    "ax=df[\"District\"].value_counts().plot(kind=\"bar\",figsize=(8,6),title=\"Konum\")\n",
    "ax.set_xlabel(\"Konum\")\n",
    "ax.set_ylabel(\"Sıklık\")"
   ]
  },
  {
   "cell_type": "code",
   "execution_count": null,
   "id": "4b07f4fa",
   "metadata": {},
   "outputs": [],
   "source": [
    "ax=df[\"Number of rooms\"].value_counts().plot(kind=\"bar\",figsize=(8,6),title=\"Oda Sayısı\")\n",
    "ax.set_xlabel(\"Oda Sayısı\")\n",
    "ax.set_ylabel(\"Sıklık\")\n"
   ]
  },
  {
   "cell_type": "code",
   "execution_count": null,
   "id": "a204f9b1",
   "metadata": {},
   "outputs": [],
   "source": [
    "#Encoding işlemdi Kategorik den nümerik veriye döndürme\n",
    "label_encoder = LabelEncoder()\n",
    "\n",
    "categorical_columns = ['District', 'Neighborhood','Number of bathrooms', 'Number of rooms','Number of floors', 'Building Age', 'Floor location', 'From who','Heating','Balcony','Furnished','Using status','Available for Loan','Swap']                  \n",
    "\n",
    "\n",
    "\n",
    "label_encoder = LabelEncoder()\n",
    "for column in categorical_columns:\n",
    "    df[column] = label_encoder.fit_transform(df[column])\n",
    "    \n",
    "    \n",
    "df.info()\n"
   ]
  },
  {
   "cell_type": "code",
   "execution_count": null,
   "id": "4e71ea77",
   "metadata": {},
   "outputs": [],
   "source": [
    "df=df.head(800)\n",
    "#veri ön işleme\n",
    "a=df.iloc[:,0:2]\n",
    "b=df.iloc[:,4:-1]\n",
    "x = pd.concat([a, b], axis=1)\n",
    "y = df.iloc[:,2]\n",
    "X = x.values\n",
    "Y = y.values\n",
    "\n",
    "\n",
    "\n",
    "#verilerin egitim ve test icin bolunmesi\n",
    "from sklearn.model_selection import train_test_split\n",
    "\n",
    "x_train, x_test,y_train,y_test = train_test_split(x,y,test_size=0.33, random_state=0)"
   ]
  },
  {
   "cell_type": "code",
   "execution_count": null,
   "id": "99b59a37",
   "metadata": {},
   "outputs": [],
   "source": [
    "#verilerin olceklenmesi\n",
    "from sklearn.preprocessing import StandardScaler\n",
    "\n",
    "sc1=StandardScaler()\n",
    "\n",
    "x_olcekli = sc1.fit_transform(X)\n",
    "\n",
    "sc2=StandardScaler()\n",
    "y_olcekli = np.ravel(sc2.fit_transform(Y.reshape(-1,1)))\n",
    "\n",
    "#Destek Vektör makine\n",
    "from sklearn.svm import SVR\n",
    "\n",
    "svr_reg = SVR(kernel='rbf')\n",
    "svr_reg.fit(x_olcekli,y_olcekli)\n",
    "\n",
    "print('SVR R^2 degeri: ',r2_score(y_olcekli, svr_reg.predict(x_olcekli)))\n"
   ]
  },
  {
   "cell_type": "code",
   "execution_count": null,
   "id": "8dbc2581",
   "metadata": {},
   "outputs": [],
   "source": [
    "#Random Forest Regresyonu\n",
    "from sklearn.ensemble import RandomForestRegressor\n",
    "rf_reg=RandomForestRegressor(n_estimators = 8,random_state=0)\n",
    "rf_reg.fit(X,Y.ravel())\n",
    "print('Random Forest R2 degeri')\n",
    "print(r2_score(Y, rf_reg.predict(X)))\n"
   ]
  },
  {
   "cell_type": "code",
   "execution_count": null,
   "id": "07125be3",
   "metadata": {},
   "outputs": [],
   "source": [
    "#polynomial regression\n",
    "\n",
    "from sklearn.preprocessing import PolynomialFeatures\n",
    "from sklearn.linear_model import LinearRegression\n",
    "x_poly = poly_reg.fit_transform(X)\n",
    "lin_reg2 = LinearRegression()\n",
    "lin_reg2.fit(x_poly,y)\n",
    "\n",
    "print('Polynomial R2 degeri')\n",
    "print(r2_score(Y, lin_reg2.predict(poly_reg.fit_transform(X))))\n"
   ]
  },
  {
   "cell_type": "code",
   "execution_count": null,
   "id": "31bf616b",
   "metadata": {},
   "outputs": [],
   "source": [
    "sc=StandardScaler()\n",
    "\n",
    "X_train = sc.fit_transform(x_train)\n",
    "X_test = sc.transform(x_test)\n"
   ]
  },
  {
   "cell_type": "code",
   "execution_count": null,
   "id": "f4bb3aa2",
   "metadata": {},
   "outputs": [],
   "source": [
    "#3 Yapay Sinir ağı\n",
    "import keras\n",
    "from keras.models import Sequential\n",
    "from keras.layers import Dense\n",
    "\n",
    "classifier = Sequential()\n",
    "\n",
    "classifier.add(Dense(88, kernel_initializer = 'he_normal', activation = 'linear' , input_dim = 176))\n",
    "classifier.add(Dense(88, kernel_initializer = 'he_normal', activation = 'relu'))\n",
    "classifier.add(Dense(44, kernel_initializer = 'he_normal', activation = 'linear'))\n",
    "classifier.add(Dense(1, kernel_initializer = 'he_normal', activation = 'linear'))\n",
    "\n",
    "classifier.compile(optimizer = 'adam', loss =  'mean_squared_error' , metrics = ['mae'] )\n",
    "\n",
    "classifier.fit(X_train, y_train, epochs=100)\n",
    "\n",
    "y_pred = classifier.predict(X_test)\n",
    "\n"
   ]
  }
 ],
 "metadata": {
  "kernelspec": {
   "display_name": "base",
   "language": "python",
   "name": "base"
  },
  "language_info": {
   "codemirror_mode": {
    "name": "ipython",
    "version": 3
   },
   "file_extension": ".py",
   "mimetype": "text/x-python",
   "name": "python",
   "nbconvert_exporter": "python",
   "pygments_lexer": "ipython3",
   "version": "3.11.1"
  }
 },
 "nbformat": 4,
 "nbformat_minor": 5
}
